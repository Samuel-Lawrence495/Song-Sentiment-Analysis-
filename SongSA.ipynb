{
 "cells": [
  {
   "cell_type": "markdown",
   "id": "f9fb1751",
   "metadata": {},
   "source": [
    "Extract lyrics from the text files"
   ]
  },
  {
   "cell_type": "code",
   "execution_count": 1,
   "id": "2b6a07d0",
   "metadata": {},
   "outputs": [
    {
     "name": "stdout",
     "output_type": "stream",
     "text": [
      "Hello world\n"
     ]
    }
   ],
   "source": [
    "print(\"Hello world\")"
   ]
  },
  {
   "cell_type": "code",
   "execution_count": 3,
   "id": "4a1fc58b",
   "metadata": {},
   "outputs": [],
   "source": [
    "import pandas as pd\n",
    "import os\n",
    "\n",
    "def text_files_to_dataframe(folder_path):\n",
    "    \"\"\"\n",
    "    Reads all .txt files in a given folder and creates a pandas DataFrame\n",
    "    where each row contains the content of one file.\n",
    "\n",
    "    Args:\n",
    "        folder_path (str): The path to the folder containing the .txt files.\n",
    "\n",
    "    Returns:\n",
    "        pandas.DataFrame: A DataFrame with a single column 'text_content'\n",
    "                          where each row holds the text from a file.\n",
    "                          Returns an empty DataFrame if no .txt files are found.\n",
    "    \"\"\"\n",
    "    all_texts = []\n",
    "    filenames = []\n",
    "    for filename in os.listdir(folder_path):\n",
    "        if filename.endswith(\".txt\"):\n",
    "            file_path = os.path.join(folder_path, filename)\n",
    "            try:\n",
    "                with open(file_path, 'r', encoding='utf-8') as file:\n",
    "                    text = file.read()\n",
    "                    all_texts.append(text)\n",
    "                    filenames.append(filename)\n",
    "            except Exception as e:\n",
    "                print(f\"Error reading file '{filename}': {e}\")\n",
    "\n",
    "    df = pd.DataFrame({'filename': filenames, 'text_content': all_texts})\n",
    "    return df"
   ]
  },
  {
   "cell_type": "code",
   "execution_count": 5,
   "id": "62086324",
   "metadata": {},
   "outputs": [
    {
     "name": "stdout",
     "output_type": "stream",
     "text": [
      "Error reading file 'EverythingEverything.txt': 'utf-8' codec can't decode byte 0xe1 in position 705: invalid continuation byte\n"
     ]
    }
   ],
   "source": [
    "df = text_files_to_dataframe(\"C:\\\\Users\\\\roade\\\\OneDrive\\\\Documents\\\\Desktop\\\\Data Science\\\\Song-Sentiment-Analysis-\\\\songs\")"
   ]
  },
  {
   "cell_type": "code",
   "execution_count": 6,
   "id": "acceb991",
   "metadata": {},
   "outputs": [
    {
     "data": {
      "text/html": [
       "<div>\n",
       "<style scoped>\n",
       "    .dataframe tbody tr th:only-of-type {\n",
       "        vertical-align: middle;\n",
       "    }\n",
       "\n",
       "    .dataframe tbody tr th {\n",
       "        vertical-align: top;\n",
       "    }\n",
       "\n",
       "    .dataframe thead th {\n",
       "        text-align: right;\n",
       "    }\n",
       "</style>\n",
       "<table border=\"1\" class=\"dataframe\">\n",
       "  <thead>\n",
       "    <tr style=\"text-align: right;\">\n",
       "      <th></th>\n",
       "      <th>filename</th>\n",
       "      <th>text_content</th>\n",
       "    </tr>\n",
       "  </thead>\n",
       "  <tbody>\n",
       "    <tr>\n",
       "      <th>0</th>\n",
       "      <td>Alchemist.txt</td>\n",
       "      <td>Give it up, give it up, give it away\\nWell you...</td>\n",
       "    </tr>\n",
       "    <tr>\n",
       "      <th>1</th>\n",
       "      <td>AloeLite.txt</td>\n",
       "      <td>These days all I see is everything you're not\\...</td>\n",
       "    </tr>\n",
       "    <tr>\n",
       "      <th>2</th>\n",
       "      <td>Atlas.txt</td>\n",
       "      <td>Baby if you don't stand for something\\nHow can...</td>\n",
       "    </tr>\n",
       "    <tr>\n",
       "      <th>3</th>\n",
       "      <td>Break.txt</td>\n",
       "      <td>Written in the back of my old diary\\n\"We all g...</td>\n",
       "    </tr>\n",
       "    <tr>\n",
       "      <th>4</th>\n",
       "      <td>Bubbly.txt</td>\n",
       "      <td>I came in a bit before the opening set\\nI took...</td>\n",
       "    </tr>\n",
       "  </tbody>\n",
       "</table>\n",
       "</div>"
      ],
      "text/plain": [
       "        filename                                       text_content\n",
       "0  Alchemist.txt  Give it up, give it up, give it away\\nWell you...\n",
       "1   AloeLite.txt  These days all I see is everything you're not\\...\n",
       "2      Atlas.txt  Baby if you don't stand for something\\nHow can...\n",
       "3      Break.txt  Written in the back of my old diary\\n\"We all g...\n",
       "4     Bubbly.txt  I came in a bit before the opening set\\nI took..."
      ]
     },
     "execution_count": 6,
     "metadata": {},
     "output_type": "execute_result"
    }
   ],
   "source": [
    "df.head()"
   ]
  },
  {
   "cell_type": "code",
   "execution_count": 8,
   "id": "294f6364",
   "metadata": {},
   "outputs": [
    {
     "name": "stdout",
     "output_type": "stream",
     "text": [
      "Give it up, give it up, give it away\n",
      "Well you were barely alive, and you learnt that day\n",
      "Cut off so much, hardly remained\n",
      "Well you knew that there was still a way\n",
      "Cry and cave in, try anyway\n",
      "Well you got him back, but then you had to pay\n",
      "Stand up, push us, still to this day\n",
      "Oh, you knew that there was still a way\n",
      "This is your only plan\n",
      "Oh, now this is your only\n",
      "Now this is your only plan\n",
      "Oh, now this is yours\n",
      "\n",
      "That's fine\n",
      "It's all you've ever known\n",
      "A single state of mind\n",
      "But you won't ever let it go\n",
      "\n",
      "When you had the answer\n",
      "And you were there alone\n",
      "You left the door unopened\n",
      "When you knew that you would want more\n",
      "\n",
      "Give it up, give it up, give it away\n",
      "Well you were barely aware and you learnt that day\n",
      "Cut off so much, hardly remained\n",
      "Oh, well you knew that there was still a way\n",
      "This is your only plan\n",
      "Oh, now this is your only\n",
      "Now this is your only plan\n",
      "Oh, now this is yours\n",
      "\n",
      "And you're right\n",
      "You'll force it to yield\n",
      "You'll forge it to the lines\n",
      "You'll let your callous be your shield\n",
      "And everyone will say\n",
      "That it all was finished years ago\n",
      "But you will stay\n",
      "And you won't ever let it go\n",
      "\n",
      "When you had the answer\n",
      "And you were there alone\n",
      "You left the door unopened\n",
      "When you knew that you would want more\n",
      "Then again you found the answer\n",
      "Then you were there alone\n",
      "You left the door unopened\n",
      "When you knew that you would want more\n",
      "\n",
      "When you had the answer (This is your only plan, oh, now this is your only)\n",
      "And you were there alone\n",
      "You left the door unopened (Now this is your only plan, oh, now this is yours)\n",
      "When you knew that you would want more\n",
      "Then again, you found the answer (This is your only plan, oh now this is yours)\n",
      "And you were there alone\n",
      "You left the door unopened\n",
      "When you knew that you would want more\n"
     ]
    }
   ],
   "source": [
    "print(df.iloc[0, 1])"
   ]
  }
 ],
 "metadata": {
  "kernelspec": {
   "display_name": "venv",
   "language": "python",
   "name": "python3"
  },
  "language_info": {
   "codemirror_mode": {
    "name": "ipython",
    "version": 3
   },
   "file_extension": ".py",
   "mimetype": "text/x-python",
   "name": "python",
   "nbconvert_exporter": "python",
   "pygments_lexer": "ipython3",
   "version": "3.13.2"
  }
 },
 "nbformat": 4,
 "nbformat_minor": 5
}
